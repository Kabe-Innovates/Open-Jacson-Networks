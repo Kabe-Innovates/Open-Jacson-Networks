{
 "cells": [
  {
   "cell_type": "markdown",
   "id": "88c3aac0",
   "metadata": {},
   "source": [
    "#### Developed By : **KABELAN G K**\n",
    "#### Reg No : **21222411027**"
   ]
  },
  {
   "cell_type": "code",
   "execution_count": 1,
   "id": "a1cef8b0",
   "metadata": {},
   "outputs": [],
   "source": [
    "import math\n",
    "\n",
    "# Getting Inputs\n",
    "ArrivalTime = float(input(\"Enter the mean inter arrival time of objects from Feeder (in secs): \"))\n",
    "ServiceTime1 = float(input(\"Enter the mean inter service time of Lathe Machine 1 (in secs): \"))\n",
    "ServiceTime2 = float(input(\"Enter the mean inter service time of Lathe Machine 2 (in secs): \"))\n",
    "ServiceTime3 = float(input(\"Enter the mean inter service time of Lathe Machine 3 (in secs): \"))\n",
    "RobotTime = float(input(\"Enter the Additional time taken for the Robot (in secs): \"))"
   ]
  },
  {
   "cell_type": "code",
   "execution_count": 2,
   "id": "5ca427c2",
   "metadata": {},
   "outputs": [
    {
     "name": "stdout",
     "output_type": "stream",
     "text": [
      "Series Queues with Infinite Capacity - Open Jackson Network\n",
      "The mean arrival rate per second               : 0.08\n",
      "The mean service rate per second of Lathe 1    : 0.12\n",
      "The mean service rate per second of Lathe 2    : 0.12\n",
      "The mean service rate per second of Lathe 3    : 0.12\n"
     ]
    }
   ],
   "source": [
    "\n",
    "# Calculating Lambda and Mu for each server\n",
    "Lambda = 1 / ArrivalTime\n",
    "Mu1 = 1 / (ServiceTime1 + RobotTime)\n",
    "Mu2 = 1 / (ServiceTime2 + RobotTime)\n",
    "Mu3 = 1 / (ServiceTime3 + RobotTime)\n",
    "\n",
    "print(\"Series Queues with Infinite Capacity - Open Jackson Network\")\n",
    "print(\"The mean arrival rate per second               : %0.2f\" % Lambda)\n",
    "print(\"The mean service rate per second of Lathe 1    : %0.2f\" % Mu1)\n",
    "print(\"The mean service rate per second of Lathe 2    : %0.2f\" % Mu2)\n",
    "print(\"The mean service rate per second of Lathe 3    : %0.2f\" % Mu3)\n"
   ]
  },
  {
   "cell_type": "code",
   "execution_count": 3,
   "id": "39f90a88",
   "metadata": {},
   "outputs": [
    {
     "name": "stdout",
     "output_type": "stream",
     "text": [
      "Average number of objects in the system S1     : 2.00\n",
      "Average number of objects in the system S2     : 2.43\n",
      "Average number of objects in the system S3     : 2.24\n",
      "Average number of objects in the overall system: 6.67\n",
      "Average number of objects in the conveyor S1   : 1.33\n",
      "Average number of objects in the conveyor S2   : 1.72\n",
      "Average number of objects in the conveyor S3   : 1.55\n",
      "Average waiting time of an object in conveyor S1: 16.00 secs\n",
      "Average waiting time of an object in conveyor S2: 20.64 secs\n",
      "Average waiting time of an object in conveyor S3: 18.62 secs\n"
     ]
    }
   ],
   "source": [
    "\n",
    "# Check for stability condition\n",
    "if (Lambda < Mu1) and (Lambda < Mu2) and (Lambda < Mu3):\n",
    "    # Calculating performance metrics for each server\n",
    "    Ls1 = Lambda / (Mu1 - Lambda)\n",
    "    Ls2 = Lambda / (Mu2 - Lambda)\n",
    "    Ls3 = Lambda / (Mu3 - Lambda)\n",
    "\n",
    "    Ls = Ls1 + Ls2 + Ls3  # Total number in system\n",
    "\n",
    "    Lq1 = Ls1 - Lambda / Mu1\n",
    "    Lq2 = Ls2 - Lambda / Mu2\n",
    "    Lq3 = Ls3 - Lambda / Mu3\n",
    "\n",
    "    Wq1 = Lq1 / Lambda\n",
    "    Wq2 = Lq2 / Lambda\n",
    "    Wq3 = Lq3 / Lambda\n",
    "\n",
    "    Ws = Ls / (3 * Lambda)\n",
    "\n",
    "    # Output\n",
    "    print(\"Average number of objects in the system S1     : %0.2f\" % Ls1)\n",
    "    print(\"Average number of objects in the system S2     : %0.2f\" % Ls2)\n",
    "    print(\"Average number of objects in the system S3     : %0.2f\" % Ls3)\n",
    "    print(\"Average number of objects in the overall system: %0.2f\" % Ls)\n",
    "    print(\"Average number of objects in the conveyor S1   : %0.2f\" % Lq1)\n",
    "    print(\"Average number of objects in the conveyor S2   : %0.2f\" % Lq2)\n",
    "    print(\"Average number of objects in the conveyor S3   : %0.2f\" % Lq3)\n",
    "    print(\"Average waiting time of an object in conveyor S1: %0.2f secs\" % Wq1)\n",
    "    print(\"Average waiting time of an object in conveyor S2: %0.2f secs\" % Wq2)\n",
    "    print(\"Average waiting time of an object in conveyor S3: %0.2f secs\" % Wq3)\n",
    "else:\n",
    "    print(\"Warning! Objects Overflow will happen in the conveyor\")\n"
   ]
  }
 ],
 "metadata": {
  "kernelspec": {
   "display_name": "base",
   "language": "python",
   "name": "python3"
  },
  "language_info": {
   "codemirror_mode": {
    "name": "ipython",
    "version": 3
   },
   "file_extension": ".py",
   "mimetype": "text/x-python",
   "name": "python",
   "nbconvert_exporter": "python",
   "pygments_lexer": "ipython3",
   "version": "3.11.3"
  }
 },
 "nbformat": 4,
 "nbformat_minor": 5
}
